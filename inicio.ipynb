{
 "cells": [
  {
   "cell_type": "markdown",
   "metadata": {},
   "source": [
    "# Instruções\n",
    "\n",
    "## Instalação\n",
    "\n",
    "Antes de começar, você precisa instalar o pacote **Anaconda Python** que pode ser baixado gratuitamente no site da [Continuum](https://www.continuum.io/downloads). Lá vão estar todas as instruções para se instalar o pacote em qualquer sistema operacional.\n",
    "\n",
    "## Como começar\n",
    "\n",
    "O primeiro passo para começar a brincar com os dados é baixá-los no site do [INEP](http://portal.inep.gov.br/basica-levantamentos-acessar). Depois, basta descompacta-los em uma pasta qualquer. Lembre-se que o endereço para essa pasta é importante, porque você precisa indica-lo no código.\n",
    "\n",
    "Nesse exemplo, eu uso uma biblioteca chamada [pandas](http://pandas.pydata.org) e considero que o arquivo descompactado chama-se \"dados.csv\". Nesse primeiro bloco eu importo a biblioteca e leio o arquivo descompactado através da função **`read_csv`**."
   ]
  },
  {
   "cell_type": "code",
   "execution_count": 1,
   "metadata": {
    "collapsed": true
   },
   "outputs": [],
   "source": [
    "import pandas\n",
    "\n",
    "enem2014 = pandas.read_csv(\"dados.csv\")"
   ]
  },
  {
   "cell_type": "markdown",
   "metadata": {},
   "source": [
    "Agora vamos imprimir as 5 primeiras linhas do arquivo. Note que, como esse arquivo possui muitas colunas, o resultado fica resumido. De qualquer forma, é possível acessar todas as colunas."
   ]
  },
  {
   "cell_type": "code",
   "execution_count": 2,
   "metadata": {
    "collapsed": false
   },
   "outputs": [
    {
     "data": {
      "text/html": [
       "<div>\n",
       "<table border=\"1\" class=\"dataframe\">\n",
       "  <thead>\n",
       "    <tr style=\"text-align: right;\">\n",
       "      <th></th>\n",
       "      <th>NU_INSCRICAO</th>\n",
       "      <th>NU_ANO</th>\n",
       "      <th>COD_MUNICIPIO_RESIDENCIA</th>\n",
       "      <th>NO_MUNICIPIO_RESIDENCIA</th>\n",
       "      <th>COD_UF_RESIDENCIA</th>\n",
       "      <th>UF_RESIDENCIA</th>\n",
       "      <th>IN_ESTUDA_CLASSE_HOSPITALAR</th>\n",
       "      <th>COD_ESCOLA</th>\n",
       "      <th>COD_MUNICIPIO_ESC</th>\n",
       "      <th>NO_MUNICIPIO_ESC</th>\n",
       "      <th>...</th>\n",
       "      <th>Q067</th>\n",
       "      <th>Q068</th>\n",
       "      <th>Q069</th>\n",
       "      <th>Q070</th>\n",
       "      <th>Q071</th>\n",
       "      <th>Q072</th>\n",
       "      <th>Q073</th>\n",
       "      <th>Q074</th>\n",
       "      <th>Q075</th>\n",
       "      <th>Q076</th>\n",
       "    </tr>\n",
       "  </thead>\n",
       "  <tbody>\n",
       "    <tr>\n",
       "      <th>0</th>\n",
       "      <td>140000000001</td>\n",
       "      <td>2014</td>\n",
       "      <td>3548708</td>\n",
       "      <td>SAO BERNARDO DO CAMPO</td>\n",
       "      <td>35</td>\n",
       "      <td>SP</td>\n",
       "      <td>0</td>\n",
       "      <td>NaN</td>\n",
       "      <td>NaN</td>\n",
       "      <td>NaN</td>\n",
       "      <td>...</td>\n",
       "      <td>NaN</td>\n",
       "      <td>NaN</td>\n",
       "      <td>NaN</td>\n",
       "      <td>NaN</td>\n",
       "      <td>NaN</td>\n",
       "      <td>NaN</td>\n",
       "      <td>NaN</td>\n",
       "      <td>NaN</td>\n",
       "      <td>NaN</td>\n",
       "      <td>NaN</td>\n",
       "    </tr>\n",
       "    <tr>\n",
       "      <th>1</th>\n",
       "      <td>140000000002</td>\n",
       "      <td>2014</td>\n",
       "      <td>3118601</td>\n",
       "      <td>CONTAGEM</td>\n",
       "      <td>31</td>\n",
       "      <td>MG</td>\n",
       "      <td>0</td>\n",
       "      <td>NaN</td>\n",
       "      <td>NaN</td>\n",
       "      <td>NaN</td>\n",
       "      <td>...</td>\n",
       "      <td>B</td>\n",
       "      <td>B</td>\n",
       "      <td>B</td>\n",
       "      <td>A</td>\n",
       "      <td>B</td>\n",
       "      <td>B</td>\n",
       "      <td>B</td>\n",
       "      <td>B</td>\n",
       "      <td>B</td>\n",
       "      <td>D</td>\n",
       "    </tr>\n",
       "    <tr>\n",
       "      <th>2</th>\n",
       "      <td>140000000003</td>\n",
       "      <td>2014</td>\n",
       "      <td>3550308</td>\n",
       "      <td>SAO PAULO</td>\n",
       "      <td>35</td>\n",
       "      <td>SP</td>\n",
       "      <td>0</td>\n",
       "      <td>NaN</td>\n",
       "      <td>NaN</td>\n",
       "      <td>NaN</td>\n",
       "      <td>...</td>\n",
       "      <td>NaN</td>\n",
       "      <td>NaN</td>\n",
       "      <td>NaN</td>\n",
       "      <td>NaN</td>\n",
       "      <td>NaN</td>\n",
       "      <td>NaN</td>\n",
       "      <td>NaN</td>\n",
       "      <td>NaN</td>\n",
       "      <td>NaN</td>\n",
       "      <td>NaN</td>\n",
       "    </tr>\n",
       "    <tr>\n",
       "      <th>3</th>\n",
       "      <td>140000000004</td>\n",
       "      <td>2014</td>\n",
       "      <td>3550308</td>\n",
       "      <td>SAO PAULO</td>\n",
       "      <td>35</td>\n",
       "      <td>SP</td>\n",
       "      <td>0</td>\n",
       "      <td>NaN</td>\n",
       "      <td>NaN</td>\n",
       "      <td>NaN</td>\n",
       "      <td>...</td>\n",
       "      <td>NaN</td>\n",
       "      <td>NaN</td>\n",
       "      <td>NaN</td>\n",
       "      <td>NaN</td>\n",
       "      <td>NaN</td>\n",
       "      <td>NaN</td>\n",
       "      <td>NaN</td>\n",
       "      <td>NaN</td>\n",
       "      <td>NaN</td>\n",
       "      <td>NaN</td>\n",
       "    </tr>\n",
       "    <tr>\n",
       "      <th>4</th>\n",
       "      <td>140000000005</td>\n",
       "      <td>2014</td>\n",
       "      <td>2933307</td>\n",
       "      <td>VITORIA DA CONQUISTA</td>\n",
       "      <td>29</td>\n",
       "      <td>BA</td>\n",
       "      <td>0</td>\n",
       "      <td>NaN</td>\n",
       "      <td>NaN</td>\n",
       "      <td>NaN</td>\n",
       "      <td>...</td>\n",
       "      <td>NaN</td>\n",
       "      <td>NaN</td>\n",
       "      <td>NaN</td>\n",
       "      <td>NaN</td>\n",
       "      <td>NaN</td>\n",
       "      <td>NaN</td>\n",
       "      <td>NaN</td>\n",
       "      <td>NaN</td>\n",
       "      <td>NaN</td>\n",
       "      <td>NaN</td>\n",
       "    </tr>\n",
       "  </tbody>\n",
       "</table>\n",
       "<p>5 rows × 166 columns</p>\n",
       "</div>"
      ],
      "text/plain": [
       "   NU_INSCRICAO  NU_ANO  COD_MUNICIPIO_RESIDENCIA NO_MUNICIPIO_RESIDENCIA  \\\n",
       "0  140000000001    2014                   3548708   SAO BERNARDO DO CAMPO   \n",
       "1  140000000002    2014                   3118601                CONTAGEM   \n",
       "2  140000000003    2014                   3550308               SAO PAULO   \n",
       "3  140000000004    2014                   3550308               SAO PAULO   \n",
       "4  140000000005    2014                   2933307    VITORIA DA CONQUISTA   \n",
       "\n",
       "   COD_UF_RESIDENCIA UF_RESIDENCIA  IN_ESTUDA_CLASSE_HOSPITALAR  COD_ESCOLA  \\\n",
       "0                 35            SP                            0         NaN   \n",
       "1                 31            MG                            0         NaN   \n",
       "2                 35            SP                            0         NaN   \n",
       "3                 35            SP                            0         NaN   \n",
       "4                 29            BA                            0         NaN   \n",
       "\n",
       "   COD_MUNICIPIO_ESC  NO_MUNICIPIO_ESC ...   Q067  Q068  Q069  Q070  Q071  \\\n",
       "0                NaN               NaN ...    NaN   NaN   NaN   NaN   NaN   \n",
       "1                NaN               NaN ...      B     B     B     A     B   \n",
       "2                NaN               NaN ...    NaN   NaN   NaN   NaN   NaN   \n",
       "3                NaN               NaN ...    NaN   NaN   NaN   NaN   NaN   \n",
       "4                NaN               NaN ...    NaN   NaN   NaN   NaN   NaN   \n",
       "\n",
       "   Q072 Q073  Q074  Q075 Q076  \n",
       "0   NaN  NaN   NaN   NaN  NaN  \n",
       "1     B    B     B     B    D  \n",
       "2   NaN  NaN   NaN   NaN  NaN  \n",
       "3   NaN  NaN   NaN   NaN  NaN  \n",
       "4   NaN  NaN   NaN   NaN  NaN  \n",
       "\n",
       "[5 rows x 166 columns]"
      ]
     },
     "execution_count": 2,
     "metadata": {},
     "output_type": "execute_result"
    }
   ],
   "source": [
    "enem2014.head(n=5)"
   ]
  },
  {
   "cell_type": "markdown",
   "metadata": {},
   "source": [
    "Nesse próximo bloco, eu quero imprimir apenas os municípios do estado de São Paulo:"
   ]
  },
  {
   "cell_type": "code",
   "execution_count": 3,
   "metadata": {
    "collapsed": false
   },
   "outputs": [
    {
     "data": {
      "text/plain": [
       "0    SAO BERNARDO DO CAMPO\n",
       "2                SAO PAULO\n",
       "3                SAO PAULO\n",
       "Name: NO_MUNICIPIO_RESIDENCIA, dtype: object"
      ]
     },
     "execution_count": 3,
     "metadata": {},
     "output_type": "execute_result"
    }
   ],
   "source": [
    "enem2014[enem2014.UF_RESIDENCIA=='SP'].NO_MUNICIPIO_RESIDENCIA"
   ]
  },
  {
   "cell_type": "code",
   "execution_count": null,
   "metadata": {
    "collapsed": true
   },
   "outputs": [],
   "source": []
  }
 ],
 "metadata": {
  "anaconda-cloud": {},
  "kernelspec": {
   "display_name": "Python [default]",
   "language": "python",
   "name": "python2"
  },
  "language_info": {
   "codemirror_mode": {
    "name": "ipython",
    "version": 2
   },
   "file_extension": ".py",
   "mimetype": "text/x-python",
   "name": "python",
   "nbconvert_exporter": "python",
   "pygments_lexer": "ipython2",
   "version": "2.7.12"
  }
 },
 "nbformat": 4,
 "nbformat_minor": 1
}
